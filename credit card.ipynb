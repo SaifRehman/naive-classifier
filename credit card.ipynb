{
 "cells": [
  {
   "cell_type": "markdown",
   "metadata": {},
   "source": [
    "# Guide for creating machine learning model to predict if credit card shall be approved or denied "
   ]
  },
  {
   "cell_type": "markdown",
   "metadata": {},
   "source": [
    "    import libraries that we will use\n",
    "   "
   ]
  },
  {
   "cell_type": "code",
   "execution_count": 277,
   "metadata": {},
   "outputs": [
    {
     "name": "stdout",
     "output_type": "stream",
     "text": [
      "Requirement already satisfied: pandas in /usr/local/lib/python3.6/site-packages\n",
      "Requirement already satisfied: python-dateutil>=2 in /usr/local/lib/python3.6/site-packages (from pandas)\n",
      "Requirement already satisfied: pytz>=2011k in /usr/local/lib/python3.6/site-packages (from pandas)\n",
      "Requirement already satisfied: numpy>=1.9.0 in /usr/local/lib/python3.6/site-packages (from pandas)\n",
      "Requirement already satisfied: six>=1.5 in /usr/local/lib/python3.6/site-packages (from python-dateutil>=2->pandas)\n",
      "Requirement already satisfied: numpy in /usr/local/lib/python3.6/site-packages\n",
      "Requirement already satisfied: sklearn in /usr/local/lib/python3.6/site-packages\n",
      "Requirement already satisfied: scikit-learn in /usr/local/lib/python3.6/site-packages (from sklearn)\n",
      "Requirement already satisfied: matplotlib in /usr/local/lib/python3.6/site-packages\n",
      "Requirement already satisfied: pyparsing!=2.0.4,!=2.1.2,!=2.1.6,>=2.0.1 in /usr/local/lib/python3.6/site-packages (from matplotlib)\n",
      "Requirement already satisfied: six>=1.10 in /usr/local/lib/python3.6/site-packages (from matplotlib)\n",
      "Requirement already satisfied: pytz in /usr/local/lib/python3.6/site-packages (from matplotlib)\n",
      "Requirement already satisfied: python-dateutil>=2.1 in /usr/local/lib/python3.6/site-packages (from matplotlib)\n",
      "Requirement already satisfied: numpy>=1.7.1 in /usr/local/lib/python3.6/site-packages (from matplotlib)\n",
      "Requirement already satisfied: cycler>=0.10 in /usr/local/lib/python3.6/site-packages (from matplotlib)\n",
      "Requirement already satisfied: kiwisolver>=1.0.1 in /usr/local/lib/python3.6/site-packages (from matplotlib)\n",
      "Requirement already satisfied: setuptools in /usr/local/lib/python3.6/site-packages (from kiwisolver>=1.0.1->matplotlib)\n",
      "Requirement already satisfied: scipy in /usr/local/lib/python3.6/site-packages\n",
      "Requirement already satisfied: numpy>=1.8.2 in /usr/local/lib/python3.6/site-packages (from scipy)\n",
      "Requirement already satisfied: seaborn in /usr/local/lib/python3.6/site-packages\n"
     ]
    }
   ],
   "source": [
    "! pip3 install pandas\n",
    "! pip3 install numpy\n",
    "! pip3 install sklearn\n",
    "! pip3 install matplotlib\n",
    "! pip3 install scipy\n",
    "! pip3 install seaborn"
   ]
  },
  {
   "cell_type": "code",
   "execution_count": 278,
   "metadata": {},
   "outputs": [],
   "source": [
    "import numpy as np\n",
    "import pandas as pd\n",
    "import sklearn\n",
    "import matplotlib.pyplot as plt\n",
    "import seaborn as sns\n",
    "from scipy import stats"
   ]
  },
  {
   "cell_type": "code",
   "execution_count": 279,
   "metadata": {},
   "outputs": [],
   "source": [
    "df = pd.read_csv(\"data.csv\")"
   ]
  },
  {
   "cell_type": "code",
   "execution_count": 280,
   "metadata": {},
   "outputs": [
    {
     "name": "stdout",
     "output_type": "stream",
     "text": [
      "     YearsEmployed  PriorDefault  Credi1Score  Income  approved\n",
      "0            1.250             1            1       0         1\n",
      "1            3.040             1            6     560         1\n",
      "2            1.500             1            0     824         1\n",
      "3            3.750             1            5       3         1\n",
      "4            1.710             1            0       0         1\n",
      "5            2.500             1            0       0         1\n",
      "6            6.500             1            0   31285         1\n",
      "7            0.040             1            0    1349         1\n",
      "8            3.960             1            0     314         1\n",
      "9            3.165             1            0    1442         1\n",
      "10           2.165             0            0       0         1\n",
      "11           4.335             1            0     200         1\n",
      "12           1.000             1            0       0         1\n",
      "13           0.040             0            0    2690         1\n",
      "14           5.000             1            7       0         1\n",
      "15           0.250             1           10       0         1\n",
      "16           0.960             1            3       0         1\n",
      "17           3.170             1           10     245         1\n",
      "18           0.665             1            0       0         1\n",
      "19           0.750             1            7       0         1\n",
      "20           2.500             1           17    1208         1\n",
      "21           0.835             1            0       0         1\n",
      "22           7.875             1            6    1260         1\n",
      "23           3.085             1            1      11         1\n",
      "24           0.500             1            3       0         1\n",
      "25           1.500             1            2       0         1\n",
      "26           5.165             1            9       0         1\n",
      "27          15.000             1           17       0         1\n",
      "28           7.000             1            3       0         1\n",
      "29           5.000             1            6   10000         1\n",
      "..             ...           ...          ...     ...       ...\n",
      "645          0.085             0            0       0         0\n",
      "646          0.165             0            0       0         0\n",
      "647          0.875             0            0       0         0\n",
      "648          1.500             0            0       0         0\n",
      "649          0.040             0            0       0         0\n",
      "650          0.040             0            0       0         0\n",
      "651          0.250             0            0       0         0\n",
      "652          1.750             0            1       5         0\n",
      "653          0.085             0            0       0         0\n",
      "654          1.500             0            0       1         0\n",
      "655          5.500             0            0     150         0\n",
      "656          0.500             0            0       2         0\n",
      "657          0.500             0            0     117         0\n",
      "658          2.000             0            0      17         0\n",
      "659          0.210             0            0     246         0\n",
      "660          0.665             0            0     237         0\n",
      "661          0.085             0           12       3         0\n",
      "662          0.040             0            1       1         0\n",
      "663          0.000             0            0      50         0\n",
      "664          0.000             0            0       0         0\n",
      "665          0.290             0            0     364         0\n",
      "666          3.000             0            0     537         0\n",
      "667          0.335             0            0       2         0\n",
      "668          0.585             0            0       3         0\n",
      "669          3.500             0            0       0         0\n",
      "670          1.250             0            0       0         0\n",
      "671          2.000             0            2     394         0\n",
      "672          2.000             0            1       1         0\n",
      "673          0.040             0            0     750         0\n",
      "674          8.290             0            0       0         0\n",
      "\n",
      "[675 rows x 5 columns]\n"
     ]
    }
   ],
   "source": [
    "print (df)"
   ]
  },
  {
   "cell_type": "code",
   "execution_count": 281,
   "metadata": {},
   "outputs": [
    {
     "name": "stdout",
     "output_type": "stream",
     "text": [
      "     YearsEmployed  Income\n",
      "0            1.250       0\n",
      "1            3.040     560\n",
      "2            1.500     824\n",
      "3            3.750       3\n",
      "4            1.710       0\n",
      "5            2.500       0\n",
      "6            6.500   31285\n",
      "7            0.040    1349\n",
      "8            3.960     314\n",
      "9            3.165    1442\n",
      "10           2.165       0\n",
      "11           4.335     200\n",
      "12           1.000       0\n",
      "13           0.040    2690\n",
      "14           5.000       0\n",
      "15           0.250       0\n",
      "16           0.960       0\n",
      "17           3.170     245\n",
      "18           0.665       0\n",
      "19           0.750       0\n",
      "20           2.500    1208\n",
      "21           0.835       0\n",
      "22           7.875    1260\n",
      "23           3.085      11\n",
      "24           0.500       0\n",
      "25           1.500       0\n",
      "26           5.165       0\n",
      "27          15.000       0\n",
      "28           7.000       0\n",
      "29           5.000   10000\n",
      "..             ...     ...\n",
      "645          0.085       0\n",
      "646          0.165       0\n",
      "647          0.875       0\n",
      "648          1.500       0\n",
      "649          0.040       0\n",
      "650          0.040       0\n",
      "651          0.250       0\n",
      "652          1.750       5\n",
      "653          0.085       0\n",
      "654          1.500       1\n",
      "655          5.500     150\n",
      "656          0.500       2\n",
      "657          0.500     117\n",
      "658          2.000      17\n",
      "659          0.210     246\n",
      "660          0.665     237\n",
      "661          0.085       3\n",
      "662          0.040       1\n",
      "663          0.000      50\n",
      "664          0.000       0\n",
      "665          0.290     364\n",
      "666          3.000     537\n",
      "667          0.335       2\n",
      "668          0.585       3\n",
      "669          3.500       0\n",
      "670          1.250       0\n",
      "671          2.000     394\n",
      "672          2.000       1\n",
      "673          0.040     750\n",
      "674          8.290       0\n",
      "\n",
      "[675 rows x 2 columns]\n"
     ]
    }
   ],
   "source": [
    "filt_df = df.loc[:, df.columns != 'PriorDefault']\n",
    "filt_df = filt_df.loc[:, filt_df.columns != 'Credi1Score']\n",
    "filt_df = filt_df.loc[:, filt_df.columns != 'approved']\n",
    "print (filt_df)\n"
   ]
  },
  {
   "cell_type": "code",
   "execution_count": 282,
   "metadata": {},
   "outputs": [
    {
     "name": "stdout",
     "output_type": "stream",
     "text": [
      "      YearsEmployed  Income\n",
      "0.17          0.085     0.0\n",
      "0.83          4.000   831.2\n"
     ]
    }
   ],
   "source": [
    "low = .17\n",
    "high = .83\n",
    "quant_df = filt_df.quantile([low, high])\n",
    "print(quant_df)"
   ]
  },
  {
   "cell_type": "code",
   "execution_count": 283,
   "metadata": {},
   "outputs": [
    {
     "name": "stdout",
     "output_type": "stream",
     "text": [
      "     YearsEmployed  Income\n",
      "0            1.250     NaN\n",
      "1            3.040   560.0\n",
      "2            1.500   824.0\n",
      "3            3.750     3.0\n",
      "4            1.710     NaN\n",
      "5            2.500     NaN\n",
      "8            3.960   314.0\n",
      "9            3.165     NaN\n",
      "10           2.165     NaN\n",
      "11             NaN   200.0\n",
      "12           1.000     NaN\n",
      "15           0.250     NaN\n",
      "16           0.960     NaN\n",
      "17           3.170   245.0\n",
      "18           0.665     NaN\n",
      "19           0.750     NaN\n",
      "20           2.500     NaN\n",
      "21           0.835     NaN\n",
      "23           3.085    11.0\n",
      "24           0.500     NaN\n",
      "25           1.500     NaN\n",
      "34           0.415   560.0\n",
      "35           2.000    35.0\n",
      "36           1.835   713.0\n",
      "37           0.500   551.0\n",
      "38           0.250   500.0\n",
      "39             NaN   300.0\n",
      "40             NaN   221.0\n",
      "42           0.750   100.0\n",
      "44           2.625   284.0\n",
      "..             ...     ...\n",
      "638          0.500    68.0\n",
      "639          0.415    11.0\n",
      "641          2.290    21.0\n",
      "642          0.250   390.0\n",
      "643          1.000    18.0\n",
      "644          0.250   154.0\n",
      "646          0.165     NaN\n",
      "647          0.875     NaN\n",
      "648          1.500     NaN\n",
      "651          0.250     NaN\n",
      "652          1.750     5.0\n",
      "654          1.500     1.0\n",
      "655            NaN   150.0\n",
      "656          0.500     2.0\n",
      "657          0.500   117.0\n",
      "658          2.000    17.0\n",
      "659          0.210   246.0\n",
      "660          0.665   237.0\n",
      "661            NaN     3.0\n",
      "662            NaN     1.0\n",
      "663            NaN    50.0\n",
      "665          0.290   364.0\n",
      "666          3.000   537.0\n",
      "667          0.335     2.0\n",
      "668          0.585     3.0\n",
      "669          3.500     NaN\n",
      "670          1.250     NaN\n",
      "671          2.000   394.0\n",
      "672          2.000     1.0\n",
      "673            NaN   750.0\n",
      "\n",
      "[505 rows x 2 columns]\n"
     ]
    }
   ],
   "source": [
    "filt_df = filt_df.apply(lambda x: x[(x>quant_df.loc[low,x.name]) & \n",
    "                                    (x < quant_df.loc[high,x.name])], axis=0)\n",
    "# filt_df = pd.concat([filt_df, df['approved']], axis=1)\n",
    "print (filt_df)\n"
   ]
  },
  {
   "cell_type": "code",
   "execution_count": 284,
   "metadata": {},
   "outputs": [
    {
     "name": "stdout",
     "output_type": "stream",
     "text": [
      "     YearsEmployed  PriorDefault  Credi1Score  Income  approved\n",
      "0            1.250             1            1       0         1\n",
      "1            3.040             1            6     560         1\n",
      "2            1.500             1            0     824         1\n",
      "3            3.750             1            5       3         1\n",
      "4            1.710             1            0       0         1\n",
      "5            2.500             1            0       0         1\n",
      "6            6.500             1            0   31285         1\n",
      "7            0.040             1            0    1349         1\n",
      "8            3.960             1            0     314         1\n",
      "9            3.165             1            0    1442         1\n",
      "10           2.165             0            0       0         1\n",
      "11           4.335             1            0     200         1\n",
      "12           1.000             1            0       0         1\n",
      "13           0.040             0            0    2690         1\n",
      "14           5.000             1            7       0         1\n",
      "15           0.250             1           10       0         1\n",
      "16           0.960             1            3       0         1\n",
      "17           3.170             1           10     245         1\n",
      "18           0.665             1            0       0         1\n",
      "19           0.750             1            7       0         1\n",
      "20           2.500             1           17    1208         1\n",
      "21           0.835             1            0       0         1\n",
      "22           7.875             1            6    1260         1\n",
      "23           3.085             1            1      11         1\n",
      "24           0.500             1            3       0         1\n",
      "25           1.500             1            2       0         1\n",
      "26           5.165             1            9       0         1\n",
      "27          15.000             1           17       0         1\n",
      "28           7.000             1            3       0         1\n",
      "29           5.000             1            6   10000         1\n",
      "..             ...           ...          ...     ...       ...\n",
      "645          0.085             0            0       0         0\n",
      "646          0.165             0            0       0         0\n",
      "647          0.875             0            0       0         0\n",
      "648          1.500             0            0       0         0\n",
      "649          0.040             0            0       0         0\n",
      "650          0.040             0            0       0         0\n",
      "651          0.250             0            0       0         0\n",
      "652          1.750             0            1       5         0\n",
      "653          0.085             0            0       0         0\n",
      "654          1.500             0            0       1         0\n",
      "655          5.500             0            0     150         0\n",
      "656          0.500             0            0       2         0\n",
      "657          0.500             0            0     117         0\n",
      "658          2.000             0            0      17         0\n",
      "659          0.210             0            0     246         0\n",
      "660          0.665             0            0     237         0\n",
      "661          0.085             0           12       3         0\n",
      "662          0.040             0            1       1         0\n",
      "663          0.000             0            0      50         0\n",
      "664          0.000             0            0       0         0\n",
      "665          0.290             0            0     364         0\n",
      "666          3.000             0            0     537         0\n",
      "667          0.335             0            0       2         0\n",
      "668          0.585             0            0       3         0\n",
      "669          3.500             0            0       0         0\n",
      "670          1.250             0            0       0         0\n",
      "671          2.000             0            2     394         0\n",
      "672          2.000             0            1       1         0\n",
      "673          0.040             0            0     750         0\n",
      "674          8.290             0            0       0         0\n",
      "\n",
      "[675 rows x 5 columns]\n"
     ]
    }
   ],
   "source": [
    "print (df)"
   ]
  },
  {
   "cell_type": "code",
   "execution_count": 285,
   "metadata": {},
   "outputs": [],
   "source": [
    "filt_df = pd.concat([df.loc[:,'PriorDefault'],df.loc[:,'Credi1Score'],df.loc[:,'approved'], filt_df], axis=1)"
   ]
  },
  {
   "cell_type": "code",
   "execution_count": 286,
   "metadata": {},
   "outputs": [
    {
     "name": "stdout",
     "output_type": "stream",
     "text": [
      "     PriorDefault  Credi1Score  approved  YearsEmployed  Income\n",
      "0               1            1         1          1.250     NaN\n",
      "1               1            6         1          3.040   560.0\n",
      "2               1            0         1          1.500   824.0\n",
      "3               1            5         1          3.750     3.0\n",
      "4               1            0         1          1.710     NaN\n",
      "5               1            0         1          2.500     NaN\n",
      "6               1            0         1            NaN     NaN\n",
      "7               1            0         1            NaN     NaN\n",
      "8               1            0         1          3.960   314.0\n",
      "9               1            0         1          3.165     NaN\n",
      "10              0            0         1          2.165     NaN\n",
      "11              1            0         1            NaN   200.0\n",
      "12              1            0         1          1.000     NaN\n",
      "13              0            0         1            NaN     NaN\n",
      "14              1            7         1            NaN     NaN\n",
      "15              1           10         1          0.250     NaN\n",
      "16              1            3         1          0.960     NaN\n",
      "17              1           10         1          3.170   245.0\n",
      "18              1            0         1          0.665     NaN\n",
      "19              1            7         1          0.750     NaN\n",
      "20              1           17         1          2.500     NaN\n",
      "21              1            0         1          0.835     NaN\n",
      "22              1            6         1            NaN     NaN\n",
      "23              1            1         1          3.085    11.0\n",
      "24              1            3         1          0.500     NaN\n",
      "25              1            2         1          1.500     NaN\n",
      "26              1            9         1            NaN     NaN\n",
      "27              1           17         1            NaN     NaN\n",
      "28              1            3         1            NaN     NaN\n",
      "29              1            6         1            NaN     NaN\n",
      "..            ...          ...       ...            ...     ...\n",
      "645             0            0         0            NaN     NaN\n",
      "646             0            0         0          0.165     NaN\n",
      "647             0            0         0          0.875     NaN\n",
      "648             0            0         0          1.500     NaN\n",
      "649             0            0         0            NaN     NaN\n",
      "650             0            0         0            NaN     NaN\n",
      "651             0            0         0          0.250     NaN\n",
      "652             0            1         0          1.750     5.0\n",
      "653             0            0         0            NaN     NaN\n",
      "654             0            0         0          1.500     1.0\n",
      "655             0            0         0            NaN   150.0\n",
      "656             0            0         0          0.500     2.0\n",
      "657             0            0         0          0.500   117.0\n",
      "658             0            0         0          2.000    17.0\n",
      "659             0            0         0          0.210   246.0\n",
      "660             0            0         0          0.665   237.0\n",
      "661             0           12         0            NaN     3.0\n",
      "662             0            1         0            NaN     1.0\n",
      "663             0            0         0            NaN    50.0\n",
      "664             0            0         0            NaN     NaN\n",
      "665             0            0         0          0.290   364.0\n",
      "666             0            0         0          3.000   537.0\n",
      "667             0            0         0          0.335     2.0\n",
      "668             0            0         0          0.585     3.0\n",
      "669             0            0         0          3.500     NaN\n",
      "670             0            0         0          1.250     NaN\n",
      "671             0            2         0          2.000   394.0\n",
      "672             0            1         0          2.000     1.0\n",
      "673             0            0         0            NaN   750.0\n",
      "674             0            0         0            NaN     NaN\n",
      "\n",
      "[675 rows x 5 columns]\n"
     ]
    }
   ],
   "source": [
    "print (filt_df)"
   ]
  },
  {
   "cell_type": "code",
   "execution_count": 287,
   "metadata": {},
   "outputs": [
    {
     "name": "stdout",
     "output_type": "stream",
     "text": [
      "     PriorDefault  Credi1Score  approved  YearsEmployed  Income\n",
      "1               1            6         1          3.040   560.0\n",
      "2               1            0         1          1.500   824.0\n",
      "3               1            5         1          3.750     3.0\n",
      "8               1            0         1          3.960   314.0\n",
      "17              1           10         1          3.170   245.0\n",
      "23              1            1         1          3.085    11.0\n",
      "34              1            5         1          0.415   560.0\n",
      "35              1           11         1          2.000    35.0\n",
      "36              1           12         1          1.835   713.0\n",
      "37              1            2         1          0.500   551.0\n",
      "38              1            2         1          0.250   500.0\n",
      "42              1            1         1          0.750   100.0\n",
      "44              1           11         1          2.625   284.0\n",
      "54              1            0         1          0.835   300.0\n",
      "60              1            9         1          3.000   730.0\n",
      "61              1            2         1          1.500   400.0\n",
      "65              1           11         1          2.000   456.0\n",
      "68              1            1         1          1.625   500.0\n",
      "73              0            0         0          1.625     2.0\n",
      "77              1            1         0          2.500    20.0\n",
      "90              1            0         0          1.500   225.0\n",
      "92              1            0         0          0.125     1.0\n",
      "94              1            2         0          1.000   500.0\n",
      "95              1            0         0          0.250   400.0\n",
      "97              1            2         0          0.375    38.0\n",
      "98              1            2         0          2.250     5.0\n",
      "104             1            5         0          0.795     5.0\n",
      "106             1            3         0          0.500   147.0\n",
      "109             1            3         0          1.375   210.0\n",
      "114             1            1         1          0.335    50.0\n",
      "..            ...          ...       ...            ...     ...\n",
      "616             0            1         0          0.125   108.0\n",
      "619             0            1         0          0.250     4.0\n",
      "620             0            2         0          0.960   587.0\n",
      "622             0            0         0          0.790   350.0\n",
      "625             0            0         0          2.500   200.0\n",
      "626             0            0         0          3.500   141.0\n",
      "629             0            0         0          0.290     2.0\n",
      "630             0            0         0          0.165   501.0\n",
      "631             0            0         0          0.165   351.0\n",
      "635             0            0         0          1.000     2.0\n",
      "636             0            1         0          0.125   160.0\n",
      "638             1            0         0          0.500    68.0\n",
      "639             0            1         0          0.415    11.0\n",
      "641             0            1         0          2.290    21.0\n",
      "642             0            0         0          0.250   390.0\n",
      "643             0            0         0          1.000    18.0\n",
      "644             0            1         0          0.250   154.0\n",
      "652             0            1         0          1.750     5.0\n",
      "654             0            0         0          1.500     1.0\n",
      "656             0            0         0          0.500     2.0\n",
      "657             0            0         0          0.500   117.0\n",
      "658             0            0         0          2.000    17.0\n",
      "659             0            0         0          0.210   246.0\n",
      "660             0            0         0          0.665   237.0\n",
      "665             0            0         0          0.290   364.0\n",
      "666             0            0         0          3.000   537.0\n",
      "667             0            0         0          0.335     2.0\n",
      "668             0            0         0          0.585     3.0\n",
      "671             0            2         0          2.000   394.0\n",
      "672             0            1         0          2.000     1.0\n",
      "\n",
      "[196 rows x 5 columns]\n"
     ]
    }
   ],
   "source": [
    "filt_df.dropna(inplace=True)\n",
    "print (filt_df)"
   ]
  },
  {
   "cell_type": "code",
   "execution_count": 288,
   "metadata": {},
   "outputs": [
    {
     "data": {
      "text/plain": [
       "<matplotlib.axes._subplots.AxesSubplot at 0x111b9f4a8>"
      ]
     },
     "execution_count": 288,
     "metadata": {},
     "output_type": "execute_result"
    },
    {
     "data": {
      "image/png": "[encoded data removed]",
      "text/plain": [
       "<Figure size 432x288 with 1 Axes>"
      ]
     },
     "metadata": {},
     "output_type": "display_data"
    }
   ],
   "source": [
    "sns.boxplot( x=filt_df[\"YearsEmployed\"] )"
   ]
  },
  {
   "cell_type": "code",
   "execution_count": 289,
   "metadata": {},
   "outputs": [
    {
     "data": {
      "text/plain": [
       "<matplotlib.axes._subplots.AxesSubplot at 0x111bba358>"
      ]
     },
     "execution_count": 289,
     "metadata": {},
     "output_type": "execute_result"
    },
    {
     "data": {
      "image/png": "[encoded data removed]",
      "text/plain": [
       "<Figure size 432x288 with 1 Axes>"
      ]
     },
     "metadata": {},
     "output_type": "display_data"
    }
   ],
   "source": [
    "sns.boxplot( x=filt_df[\"Income\"] )"
   ]
  },
  {
   "cell_type": "code",
   "execution_count": 291,
   "metadata": {},
   "outputs": [],
   "source": [
    "normalityTestforCreditCardScore = stats.normaltest(filt_df['Credi1Score'])"
   ]
  },
  {
   "cell_type": "code",
   "execution_count": 295,
   "metadata": {},
   "outputs": [
    {
     "name": "stdout",
     "output_type": "stream",
     "text": [
      "data1 is not normally distributed \n"
     ]
    }
   ],
   "source": [
    "if normalityTestforCreditCardScore[1]>0.05:\n",
    "    print (\"data1 is normally distributed \")\n",
    "else:\n",
    "    print (\"data1 is not normally distributed \")\n"
   ]
  },
  {
   "cell_type": "code",
   "execution_count": 296,
   "metadata": {},
   "outputs": [],
   "source": [
    "normalityTestforIncome = stats.normaltest(filt_df['Income'])"
   ]
  },
  {
   "cell_type": "code",
   "execution_count": 297,
   "metadata": {},
   "outputs": [
    {
     "name": "stdout",
     "output_type": "stream",
     "text": [
      "data1 is not normally distributed \n"
     ]
    }
   ],
   "source": [
    "if normalityTestforIncome[1]>0.05:\n",
    "    print (\"data1 is normally distributed \")\n",
    "else:\n",
    "    print (\"data1 is not normally distributed \")"
   ]
  },
  {
   "cell_type": "code",
   "execution_count": 298,
   "metadata": {},
   "outputs": [
    {
     "name": "stderr",
     "output_type": "stream",
     "text": [
      "/usr/local/lib/python3.6/site-packages/matplotlib/axes/_axes.py:6462: UserWarning: The 'normed' kwarg is deprecated, and has been replaced by the 'density' kwarg.\n",
      "  warnings.warn(\"The 'normed' kwarg is deprecated, and has been \"\n"
     ]
    },
    {
     "data": {
      "image/png": "[encoded data removed]",
      "text/plain": [
       "<Figure size 432x288 with 1 Axes>"
      ]
     },
     "metadata": {},
     "output_type": "display_data"
    }
   ],
   "source": [
    "sns.distplot(filt_df['Income']);"
   ]
  },
  {
   "cell_type": "code",
   "execution_count": null,
   "metadata": {},
   "outputs": [],
   "source": []
  }
 ],
 "metadata": {
  "kernelspec": {
   "display_name": "Python 3",
   "language": "python",
   "name": "python3"
  },
  "language_info": {
   "codemirror_mode": {
    "name": "ipython",
    "version": 3
   },
   "file_extension": ".py",
   "mimetype": "text/x-python",
   "name": "python",
   "nbconvert_exporter": "python",
   "pygments_lexer": "ipython3",
   "version": "3.6.5"
  }
 },
 "nbformat": 4,
 "nbformat_minor": 2
}
