{
 "cells": [
  {
   "cell_type": "markdown",
   "metadata": {},
   "source": [
    "# Guide for creating machine learning model to predict if credit card shall be approved or denied "
   ]
  },
  {
   "cell_type": "markdown",
   "metadata": {},
   "source": [
    "#    Install needed libraries to train our model and to do pre processing "
   ]
  },
  {
   "cell_type": "code",
   "execution_count": 81,
   "metadata": {},
   "outputs": [
    {
     "name": "stdout",
     "output_type": "stream",
     "text": [
      "Requirement already satisfied: pandas in /usr/local/lib/python3.6/site-packages\n",
      "Requirement already satisfied: pytz>=2011k in /usr/local/lib/python3.6/site-packages (from pandas)\n",
      "Requirement already satisfied: numpy>=1.9.0 in /usr/local/lib/python3.6/site-packages (from pandas)\n",
      "Requirement already satisfied: python-dateutil>=2 in /usr/local/lib/python3.6/site-packages (from pandas)\n",
      "Requirement already satisfied: six>=1.5 in /usr/local/lib/python3.6/site-packages (from python-dateutil>=2->pandas)\n",
      "\u001b[33mYou are using pip version 9.0.3, however version 10.0.0 is available.\n",
      "You should consider upgrading via the 'pip install --upgrade pip' command.\u001b[0m\n",
      "Requirement already satisfied: numpy in /usr/local/lib/python3.6/site-packages\n",
      "\u001b[33mYou are using pip version 9.0.3, however version 10.0.0 is available.\n",
      "You should consider upgrading via the 'pip install --upgrade pip' command.\u001b[0m\n",
      "Requirement already satisfied: sklearn in /usr/local/lib/python3.6/site-packages\n",
      "Requirement already satisfied: scikit-learn in /usr/local/lib/python3.6/site-packages (from sklearn)\n",
      "\u001b[33mYou are using pip version 9.0.3, however version 10.0.0 is available.\n",
      "You should consider upgrading via the 'pip install --upgrade pip' command.\u001b[0m\n",
      "Requirement already satisfied: matplotlib in /usr/local/lib/python3.6/site-packages\n",
      "Requirement already satisfied: numpy>=1.7.1 in /usr/local/lib/python3.6/site-packages (from matplotlib)\n",
      "Requirement already satisfied: cycler>=0.10 in /usr/local/lib/python3.6/site-packages (from matplotlib)\n",
      "Requirement already satisfied: python-dateutil>=2.1 in /usr/local/lib/python3.6/site-packages (from matplotlib)\n",
      "Requirement already satisfied: pytz in /usr/local/lib/python3.6/site-packages (from matplotlib)\n",
      "Requirement already satisfied: pyparsing!=2.0.4,!=2.1.2,!=2.1.6,>=2.0.1 in /usr/local/lib/python3.6/site-packages (from matplotlib)\n",
      "Requirement already satisfied: six>=1.10 in /usr/local/lib/python3.6/site-packages (from matplotlib)\n",
      "Requirement already satisfied: kiwisolver>=1.0.1 in /usr/local/lib/python3.6/site-packages (from matplotlib)\n",
      "Requirement already satisfied: setuptools in /usr/local/lib/python3.6/site-packages (from kiwisolver>=1.0.1->matplotlib)\n",
      "\u001b[33mYou are using pip version 9.0.3, however version 10.0.0 is available.\n",
      "You should consider upgrading via the 'pip install --upgrade pip' command.\u001b[0m\n",
      "Requirement already satisfied: scipy in /usr/local/lib/python3.6/site-packages\n",
      "Requirement already satisfied: numpy>=1.8.2 in /usr/local/lib/python3.6/site-packages (from scipy)\n",
      "\u001b[33mYou are using pip version 9.0.3, however version 10.0.0 is available.\n",
      "You should consider upgrading via the 'pip install --upgrade pip' command.\u001b[0m\n",
      "Requirement already satisfied: seaborn in /usr/local/lib/python3.6/site-packages\n",
      "\u001b[33mYou are using pip version 9.0.3, however version 10.0.0 is available.\n",
      "You should consider upgrading via the 'pip install --upgrade pip' command.\u001b[0m\n"
     ]
    }
   ],
   "source": [
    "! pip3 install pandas\n",
    "! pip3 install numpy\n",
    "! pip3 install sklearn\n",
    "! pip3 install matplotlib\n",
    "! pip3 install scipy\n",
    "! pip3 install seaborn"
   ]
  },
  {
   "cell_type": "markdown",
   "metadata": {},
   "source": [
    "# Import needed libraries"
   ]
  },
  {
   "cell_type": "code",
   "execution_count": 82,
   "metadata": {},
   "outputs": [],
   "source": [
    "import numpy as np\n",
    "import pandas as pd\n",
    "import sklearn\n",
    "import matplotlib.pyplot as plt\n",
    "import seaborn as sns\n",
    "from scipy import stats\n",
    "from sklearn.naive_bayes import MultinomialNB\n",
    "from sklearn.naive_bayes import BernoulliNB\n",
    "from sklearn.cross_validation import train_test_split\n",
    "from sklearn.metrics import accuracy_score\n",
    "from sklearn.metrics import confusion_matrix\n",
    "from sklearn.preprocessing import StandardScaler\n",
    "from sklearn.neural_network import MLPClassifier\n",
    "from sklearn.metrics import classification_report,confusion_matrix\n",
    "from sklearn.externals import joblib\n",
    "\n"
   ]
  },
  {
   "cell_type": "markdown",
   "metadata": {},
   "source": [
    "# Reading data from csv file"
   ]
  },
  {
   "cell_type": "code",
   "execution_count": 83,
   "metadata": {},
   "outputs": [],
   "source": [
    "df = pd.read_csv(\"data.csv\")"
   ]
  },
  {
   "cell_type": "code",
   "execution_count": 84,
   "metadata": {},
   "outputs": [
    {
     "name": "stdout",
     "output_type": "stream",
     "text": [
      "     YearsEmployed  PriorDefault  Credi1Score  Income  approved\n",
      "0            1.250             1            1       0         1\n",
      "1            3.040             1            6     560         1\n",
      "2            1.500             1            0     824         1\n",
      "3            3.750             1            5       3         1\n",
      "4            1.710             1            0       0         1\n",
      "5            2.500             1            0       0         1\n",
      "6            6.500             1            0   31285         1\n",
      "7            0.040             1            0    1349         1\n",
      "8            3.960             1            0     314         1\n",
      "9            3.165             1            0    1442         1\n",
      "10           2.165             0            0       0         1\n",
      "11           4.335             1            0     200         1\n",
      "12           1.000             1            0       0         1\n",
      "13           0.040             0            0    2690         1\n",
      "14           5.000             1            7       0         1\n",
      "15           0.250             1           10       0         1\n",
      "16           0.960             1            3       0         1\n",
      "17           3.170             1           10     245         1\n",
      "18           0.665             1            0       0         1\n",
      "19           0.750             1            7       0         1\n",
      "20           2.500             1           17    1208         1\n",
      "21           0.835             1            0       0         1\n",
      "22           7.875             1            6    1260         1\n",
      "23           3.085             1            1      11         1\n",
      "24           0.500             1            3       0         1\n",
      "25           1.500             1            2       0         1\n",
      "26           5.165             1            9       0         1\n",
      "27          15.000             1           17       0         1\n",
      "28           7.000             1            3       0         1\n",
      "29           5.000             1            6   10000         1\n",
      "..             ...           ...          ...     ...       ...\n",
      "645          0.085             0            0       0         0\n",
      "646          0.165             0            0       0         0\n",
      "647          0.875             0            0       0         0\n",
      "648          1.500             0            0       0         0\n",
      "649          0.040             0            0       0         0\n",
      "650          0.040             0            0       0         0\n",
      "651          0.250             0            0       0         0\n",
      "652          1.750             0            1       5         0\n",
      "653          0.085             0            0       0         0\n",
      "654          1.500             0            0       1         0\n",
      "655          5.500             0            0     150         0\n",
      "656          0.500             0            0       2         0\n",
      "657          0.500             0            0     117         0\n",
      "658          2.000             0            0      17         0\n",
      "659          0.210             0            0     246         0\n",
      "660          0.665             0            0     237         0\n",
      "661          0.085             0           12       3         0\n",
      "662          0.040             0            1       1         0\n",
      "663          0.000             0            0      50         0\n",
      "664          0.000             0            0       0         0\n",
      "665          0.290             0            0     364         0\n",
      "666          3.000             0            0     537         0\n",
      "667          0.335             0            0       2         0\n",
      "668          0.585             0            0       3         0\n",
      "669          3.500             0            0       0         0\n",
      "670          1.250             0            0       0         0\n",
      "671          2.000             0            2     394         0\n",
      "672          2.000             0            1       1         0\n",
      "673          0.040             0            0     750         0\n",
      "674          8.290             0            0       0         0\n",
      "\n",
      "[675 rows x 5 columns]\n"
     ]
    }
   ],
   "source": [
    "print (df)"
   ]
  },
  {
   "cell_type": "markdown",
   "metadata": {},
   "source": [
    "# Removing outliers and data preprocessing"
   ]
  },
  {
   "cell_type": "code",
   "execution_count": 85,
   "metadata": {},
   "outputs": [],
   "source": [
    "filt_df = df.loc[:, df.columns != 'PriorDefault']\n",
    "filt_df = filt_df.loc[:, filt_df.columns != 'Credi1Score']\n",
    "filt_df = filt_df.loc[:, filt_df.columns != 'approved']\n"
   ]
  },
  {
   "cell_type": "code",
   "execution_count": 86,
   "metadata": {},
   "outputs": [
    {
     "name": "stdout",
     "output_type": "stream",
     "text": [
      "      YearsEmployed  Income\n",
      "0.05         0.0000     0.0\n",
      "0.95         8.5375  4021.3\n"
     ]
    }
   ],
   "source": [
    "low = .05 ## IQR TEST TO REMOVE OUTLIERS\n",
    "high = .95\n",
    "quant_df = filt_df.quantile([low, high])\n",
    "print(quant_df)"
   ]
  },
  {
   "cell_type": "code",
   "execution_count": 87,
   "metadata": {},
   "outputs": [],
   "source": [
    "filt_df = filt_df.apply(lambda x: x[(x>quant_df.loc[low,x.name]) & \n",
    "                                    (x < quant_df.loc[high,x.name])], axis=0)"
   ]
  },
  {
   "cell_type": "code",
   "execution_count": 88,
   "metadata": {},
   "outputs": [],
   "source": [
    "filt_df = pd.concat([df.loc[:,'PriorDefault'],df.loc[:,'Credi1Score'],df.loc[:,'approved'], filt_df], axis=1)"
   ]
  },
  {
   "cell_type": "code",
   "execution_count": 89,
   "metadata": {},
   "outputs": [
    {
     "name": "stdout",
     "output_type": "stream",
     "text": [
      "     PriorDefault  Credi1Score  approved  YearsEmployed  Income\n",
      "1               1            6         1          3.040   560.0\n",
      "2               1            0         1          1.500   824.0\n",
      "3               1            5         1          3.750     3.0\n",
      "7               1            0         1          0.040  1349.0\n",
      "8               1            0         1          3.960   314.0\n",
      "9               1            0         1          3.165  1442.0\n",
      "11              1            0         1          4.335   200.0\n",
      "13              0            0         1          0.040  2690.0\n",
      "17              1           10         1          3.170   245.0\n",
      "20              1           17         1          2.500  1208.0\n",
      "22              1            6         1          7.875  1260.0\n",
      "23              1            1         1          3.085    11.0\n",
      "33              1            0         1          5.000  4000.0\n",
      "34              1            5         1          0.415   560.0\n",
      "35              1           11         1          2.000    35.0\n",
      "36              1           12         1          1.835   713.0\n",
      "37              1            2         1          0.500   551.0\n",
      "38              1            2         1          0.250   500.0\n",
      "40              1           12         1          4.500   221.0\n",
      "41              1           11         1          5.335  2283.0\n",
      "42              1            1         1          0.750   100.0\n",
      "44              1           11         1          2.625   284.0\n",
      "45              1           23         1          0.125  1236.0\n",
      "46              1            3         1          6.040   300.0\n",
      "54              1            0         1          0.835   300.0\n",
      "60              1            9         1          3.000   730.0\n",
      "61              1            2         1          1.500   400.0\n",
      "65              1           11         1          2.000   456.0\n",
      "67              1            7         1          1.460  2954.0\n",
      "68              1            1         1          1.625   500.0\n",
      "..            ...          ...       ...            ...     ...\n",
      "625             0            0         0          2.500   200.0\n",
      "626             0            0         0          3.500   141.0\n",
      "629             0            0         0          0.290     2.0\n",
      "630             0            0         0          0.165   501.0\n",
      "631             0            0         0          0.165   351.0\n",
      "635             0            0         0          1.000     2.0\n",
      "636             0            1         0          0.125   160.0\n",
      "638             1            0         0          0.500    68.0\n",
      "639             0            1         0          0.415    11.0\n",
      "641             0            1         0          2.290    21.0\n",
      "642             0            0         0          0.250   390.0\n",
      "643             0            0         0          1.000    18.0\n",
      "644             0            1         0          0.250   154.0\n",
      "652             0            1         0          1.750     5.0\n",
      "654             0            0         0          1.500     1.0\n",
      "655             0            0         0          5.500   150.0\n",
      "656             0            0         0          0.500     2.0\n",
      "657             0            0         0          0.500   117.0\n",
      "658             0            0         0          2.000    17.0\n",
      "659             0            0         0          0.210   246.0\n",
      "660             0            0         0          0.665   237.0\n",
      "661             0           12         0          0.085     3.0\n",
      "662             0            1         0          0.040     1.0\n",
      "665             0            0         0          0.290   364.0\n",
      "666             0            0         0          3.000   537.0\n",
      "667             0            0         0          0.335     2.0\n",
      "668             0            0         0          0.585     3.0\n",
      "671             0            2         0          2.000   394.0\n",
      "672             0            1         0          2.000     1.0\n",
      "673             0            0         0          0.040   750.0\n",
      "\n",
      "[305 rows x 5 columns]\n"
     ]
    }
   ],
   "source": [
    "filt_df.dropna(inplace=True)\n",
    "print (filt_df)"
   ]
  },
  {
   "cell_type": "markdown",
   "metadata": {},
   "source": [
    "# BOX Plot to visualize"
   ]
  },
  {
   "cell_type": "code",
   "execution_count": 90,
   "metadata": {},
   "outputs": [
    {
     "data": {
      "text/plain": [
       "<matplotlib.axes._subplots.AxesSubplot at 0x110615a58>"
      ]
     },
     "execution_count": 90,
     "metadata": {},
     "output_type": "execute_result"
    },
    {
     "data": {
      "image/png": "[encoded data removed]",
      "text/plain": [
       "<Figure size 432x288 with 1 Axes>"
      ]
     },
     "metadata": {},
     "output_type": "display_data"
    }
   ],
   "source": [
    "sns.boxplot( x=filt_df[\"YearsEmployed\"] )"
   ]
  },
  {
   "cell_type": "code",
   "execution_count": 91,
   "metadata": {},
   "outputs": [
    {
     "data": {
      "text/plain": [
       "<matplotlib.axes._subplots.AxesSubplot at 0x111a2cac8>"
      ]
     },
     "execution_count": 91,
     "metadata": {},
     "output_type": "execute_result"
    },
    {
     "data": {
      "image/png": "[encoded data removed]",
      "text/plain": [
       "<Figure size 432x288 with 1 Axes>"
      ]
     },
     "metadata": {},
     "output_type": "display_data"
    }
   ],
   "source": [
    "sns.boxplot( x=filt_df[\"Income\"] )"
   ]
  },
  {
   "cell_type": "markdown",
   "metadata": {},
   "source": [
    "# Data Normality Test"
   ]
  },
  {
   "cell_type": "code",
   "execution_count": 92,
   "metadata": {},
   "outputs": [],
   "source": [
    "normalityTestforCreditCardScore = stats.normaltest(filt_df['YearsEmployed'])"
   ]
  },
  {
   "cell_type": "code",
   "execution_count": 93,
   "metadata": {},
   "outputs": [
    {
     "name": "stdout",
     "output_type": "stream",
     "text": [
      "data1 is not normally distributed \n"
     ]
    }
   ],
   "source": [
    "if normalityTestforCreditCardScore[1]>0.05:\n",
    "    print (\"data1 is normally distributed \")\n",
    "else:\n",
    "    print (\"data1 is not normally distributed \")\n"
   ]
  },
  {
   "cell_type": "code",
   "execution_count": 94,
   "metadata": {},
   "outputs": [],
   "source": [
    "normalityTestforIncome = stats.normaltest(filt_df['Income'])"
   ]
  },
  {
   "cell_type": "code",
   "execution_count": 95,
   "metadata": {},
   "outputs": [
    {
     "name": "stdout",
     "output_type": "stream",
     "text": [
      "data1 is not normally distributed \n"
     ]
    }
   ],
   "source": [
    "if normalityTestforIncome[1]>0.05:\n",
    "    print (\"data1 is normally distributed \")\n",
    "else:\n",
    "    print (\"data1 is not normally distributed \")"
   ]
  },
  {
   "cell_type": "code",
   "execution_count": 96,
   "metadata": {},
   "outputs": [
    {
     "name": "stderr",
     "output_type": "stream",
     "text": [
      "/usr/local/lib/python3.6/site-packages/matplotlib/axes/_axes.py:6462: UserWarning: The 'normed' kwarg is deprecated, and has been replaced by the 'density' kwarg.\n",
      "  warnings.warn(\"The 'normed' kwarg is deprecated, and has been \"\n"
     ]
    },
    {
     "data": {
      "image/png": "[encoded data removed]",
      "text/plain": [
       "<Figure size 432x288 with 1 Axes>"
      ]
     },
     "metadata": {},
     "output_type": "display_data"
    }
   ],
   "source": [
    "sns.distplot(filt_df['Income']);"
   ]
  },
  {
   "cell_type": "code",
   "execution_count": 97,
   "metadata": {},
   "outputs": [
    {
     "name": "stderr",
     "output_type": "stream",
     "text": [
      "/usr/local/lib/python3.6/site-packages/matplotlib/axes/_axes.py:6462: UserWarning: The 'normed' kwarg is deprecated, and has been replaced by the 'density' kwarg.\n",
      "  warnings.warn(\"The 'normed' kwarg is deprecated, and has been \"\n"
     ]
    },
    {
     "data": {
      "image/png": "[encoded data removed]",
      "text/plain": [
       "<Figure size 432x288 with 1 Axes>"
      ]
     },
     "metadata": {},
     "output_type": "display_data"
    }
   ],
   "source": [
    "sns.distplot(filt_df['YearsEmployed']);"
   ]
  },
  {
   "cell_type": "markdown",
   "metadata": {},
   "source": [
    "# Descriptive analyses for the dataset "
   ]
  },
  {
   "cell_type": "code",
   "execution_count": 98,
   "metadata": {
    "scrolled": true
   },
   "outputs": [
    {
     "name": "stdout",
     "output_type": "stream",
     "text": [
      "count    305.000000\n",
      "mean       1.649049\n",
      "std        1.706167\n",
      "min        0.040000\n",
      "25%        0.250000\n",
      "50%        1.085000\n",
      "75%        2.375000\n",
      "max        8.000000\n",
      "Name: YearsEmployed, dtype: float64\n"
     ]
    }
   ],
   "source": [
    "print (filt_df['YearsEmployed'].describe())\n"
   ]
  },
  {
   "cell_type": "code",
   "execution_count": 99,
   "metadata": {},
   "outputs": [
    {
     "name": "stdout",
     "output_type": "stream",
     "text": [
      "count     305.000000\n",
      "mean      576.865574\n",
      "std       841.638247\n",
      "min         1.000000\n",
      "25%        18.000000\n",
      "50%       225.000000\n",
      "75%       730.000000\n",
      "max      4000.000000\n",
      "Name: Income, dtype: float64\n"
     ]
    }
   ],
   "source": [
    "print (filt_df['Income'].describe())\n"
   ]
  },
  {
   "cell_type": "markdown",
   "metadata": {},
   "source": [
    "# Seperate dataset into independent and dependent variables (Input and Output)"
   ]
  },
  {
   "cell_type": "code",
   "execution_count": 100,
   "metadata": {},
   "outputs": [],
   "source": [
    "output = filt_df['approved']"
   ]
  },
  {
   "cell_type": "code",
   "execution_count": 101,
   "metadata": {},
   "outputs": [],
   "source": [
    "input = filt_df\n",
    "del input['approved']"
   ]
  },
  {
   "cell_type": "markdown",
   "metadata": {},
   "source": [
    "# Divide my dataset to training and testing dataset "
   ]
  },
  {
   "cell_type": "code",
   "execution_count": 102,
   "metadata": {},
   "outputs": [],
   "source": [
    "X_train,Xtest,Ytrain,Ytest = train_test_split(input,output,test_size = 0.3 ,random_state =17)"
   ]
  },
  {
   "cell_type": "markdown",
   "metadata": {},
   "source": [
    "# Multinomial Naive Bayes Model"
   ]
  },
  {
   "cell_type": "code",
   "execution_count": 103,
   "metadata": {},
   "outputs": [
    {
     "name": "stdout",
     "output_type": "stream",
     "text": [
      "MultinomialNB(alpha=1.0, class_prior=None, fit_prior=True)\n",
      "0.6847826086956522\n"
     ]
    }
   ],
   "source": [
    "MultiNB = MultinomialNB()\n",
    "MultiNB.fit(X_train,Ytrain)\n",
    "print (MultiNB)\n",
    "y_predict = MultiNB.predict(Xtest)\n",
    "print (accuracy_score(Ytest,y_predict))"
   ]
  },
  {
   "cell_type": "markdown",
   "metadata": {},
   "source": [
    "# Bernoulli Naive Bayes Model"
   ]
  },
  {
   "cell_type": "code",
   "execution_count": 104,
   "metadata": {},
   "outputs": [
    {
     "name": "stdout",
     "output_type": "stream",
     "text": [
      "BernoulliNB(alpha=1.0, binarize=0.0, class_prior=None, fit_prior=True)\n",
      "0.9347826086956522\n"
     ]
    }
   ],
   "source": [
    "BurnNB = BernoulliNB()\n",
    "BurnNB.fit(X_train,Ytrain)\n",
    "print (BurnNB)\n",
    "y_predict = BurnNB.predict(Xtest)\n",
    "print (accuracy_score(Ytest,y_predict))"
   ]
  },
  {
   "cell_type": "markdown",
   "metadata": {},
   "source": [
    "# Implementing Simple Neural Network"
   ]
  },
  {
   "cell_type": "code",
   "execution_count": 105,
   "metadata": {},
   "outputs": [
    {
     "name": "stdout",
     "output_type": "stream",
     "text": [
      "             precision    recall  f1-score   support\n",
      "\n",
      "          0       0.98      0.91      0.95        57\n",
      "          1       0.87      0.97      0.92        35\n",
      "\n",
      "avg / total       0.94      0.93      0.94        92\n",
      "\n",
      "[[52  5]\n",
      " [ 1 34]]\n"
     ]
    }
   ],
   "source": [
    "scaler = StandardScaler() # to normalize your data \n",
    "scaler.fit(X_train)\n",
    "# normalize both train and test\n",
    "X_train = scaler.transform(X_train)\n",
    "Xtest = scaler.transform(Xtest)\n",
    "# normalization done here for MLP\n",
    "mlp = MLPClassifier(hidden_layer_sizes=(20,20))\n",
    "mlp.fit(X_train,Ytrain)\n",
    "predictions = mlp.predict(Xtest)\n",
    "print(classification_report(Ytest,predictions))\n",
    "print(confusion_matrix(Ytest,predictions))\n",
    "cm = confusion_matrix(Ytest,predictions)\n",
    "\n",
    "\n"
   ]
  },
  {
   "cell_type": "code",
   "execution_count": 106,
   "metadata": {},
   "outputs": [
    {
     "data": {
      "text/plain": [
       "<matplotlib.axes._subplots.AxesSubplot at 0x111dd4320>"
      ]
     },
     "execution_count": 106,
     "metadata": {},
     "output_type": "execute_result"
    },
    {
     "data": {
      "image/png": "[encoded data removed]",
      "text/plain": [
       "<Figure size 720x504 with 2 Axes>"
      ]
     },
     "metadata": {},
     "output_type": "display_data"
    }
   ],
   "source": [
    "df_cm = pd.DataFrame(cm, index = ['Actual Approved','Actual Disapproved'],\n",
    "                  columns = ['Predicted Approved','Predicted Disapproved'])\n",
    "plt.figure(figsize = (10,7))\n",
    "sns.heatmap(df_cm, annot=True)"
   ]
  },
  {
   "cell_type": "markdown",
   "metadata": {},
   "source": [
    "# Pickling the Model"
   ]
  },
  {
   "cell_type": "code",
   "execution_count": 107,
   "metadata": {},
   "outputs": [
    {
     "data": {
      "text/plain": [
       "['model.pkl']"
      ]
     },
     "execution_count": 107,
     "metadata": {},
     "output_type": "execute_result"
    }
   ],
   "source": [
    "joblib.dump(BurnNB, 'model.pkl')"
   ]
  },
  {
   "cell_type": "code",
   "execution_count": null,
   "metadata": {},
   "outputs": [],
   "source": []
  }
 ],
 "metadata": {
  "kernelspec": {
   "display_name": "Python 3",
   "language": "python",
   "name": "python3"
  },
  "language_info": {
   "codemirror_mode": {
    "name": "ipython",
    "version": 3
   },
   "file_extension": ".py",
   "mimetype": "text/x-python",
   "name": "python",
   "nbconvert_exporter": "python",
   "pygments_lexer": "ipython3",
   "version": "3.6.5"
  }
 },
 "nbformat": 4,
 "nbformat_minor": 2
}
